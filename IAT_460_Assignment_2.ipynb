{
  "nbformat": 4,
  "nbformat_minor": 0,
  "metadata": {
    "colab": {
      "provenance": [],
      "authorship_tag": "ABX9TyOmRoJyGBqCeDRRZFki53lR",
      "include_colab_link": true
    },
    "kernelspec": {
      "name": "python3",
      "display_name": "Python 3"
    },
    "language_info": {
      "name": "python"
    }
  },
  "cells": [
    {
      "cell_type": "markdown",
      "metadata": {
        "id": "view-in-github",
        "colab_type": "text"
      },
      "source": [
        "<a href=\"https://colab.research.google.com/github/abbhimish/IAT-460-Assignment-2/blob/main/IAT_460_Assignment_2.ipynb\" target=\"_parent\"><img src=\"https://colab.research.google.com/assets/colab-badge.svg\" alt=\"Open In Colab\"/></a>"
      ]
    },
    {
      "cell_type": "code",
      "source": [
        "# Creating sentence structure\n",
        "import random\n",
        "\n",
        "# Define our basic grammar\n",
        "basic_grammar = {\n",
        "    'DET': ['the', 'a'],\n",
        "    'VERB': ['there was'],\n",
        "\n",
        "    'STORY': [['STORY-START', 'STORY-TWIST', 'QUEST', 'CHALLENGE', 'BATTLE', 'RESOLUTION', 'RETURN', 'LEGACY', 'EPILOGUE']],\n",
        "\n",
        "    'STORY-START': [['Once upon a time in', 'SETTING', 'VERB', 'CHARACTER', '.']],\n",
        "    'STORY-TWIST': [['On a gloomy day', 'CHARACTER', 'was', 'CHAR-TWIST', '.']],\n",
        "    'QUEST': [['A great prophecy foretold that they must', 'GOAL', '.', 'Hence, they set out on a quest to', 'GOAL', '.']],\n",
        "    'CHALLENGE': [['Along the way, they', 'OBSTACLE', 'and', 'OBSTACLE', '.']],\n",
        "    'BATTLE': [['As they neared their goal, they encountered', 'DET', 'FEARSOME CHAR', 'who sought to stop them.', 'With courage, they fought bravely, wielding', 'WEAPON', 'against their foe.']],\n",
        "    'RESOLUTION': [['After a great long battle, they', 'RESO ACTION', 'DET', 'OBS CHAR', '.']],\n",
        "    'RETURN': [['Weary but victorious, they journeyed back through the', 'SETTING', ', reflecting on their trials and triumphs.']],\n",
        "    'LEGACY': [['Their deeds were honored with grand feasts, and the people sang songs of their bravery.', 'Statues were built to commemorate their great victory.']],\n",
        "    'EPILOGUE': [['Their story was told for generations, inspiring others to follow in their footsteps.', 'Songs were written, and their legend lived on.']],\n",
        "\n",
        "    'SETTING': [['DET', 'ADJ PLACE', 'PLACE']],\n",
        "    'PLACE': ['forest', 'Kingdom', 'castle', 'cave', 'desert', 'mountain'],\n",
        "    'ADJ PLACE': ['mystical', 'far far away', 'hidden', 'deep', 'ancient', 'enchanted'],\n",
        "\n",
        "    'CHARACTER': [['DET', 'ADJ CHAR', 'CHAR']],\n",
        "    'CHAR': ['Prince', 'warrior', 'Princess', 'knight', 'sorcerer'],\n",
        "    'ADJ CHAR': ['brave', 'scared', 'heroic', 'cunning', 'clever', 'noble', 'fearless'],\n",
        "    'CHAR-TWIST': ['kidnapped', 'poisoned', 'possessed', 'cursed', 'betrayed'],\n",
        "\n",
        "    'GOAL': [['GOAL ACTION', 'DET', 'GOAL CHAR']],\n",
        "    'GOAL ACTION': ['ride', 'slay', 'retrieve', 'rescue', 'defeat', 'discover'],\n",
        "    'GOAL CHAR': ['Horse', 'dragon', 'witch', 'treasure', 'ancient relic', 'cursed artifact'],\n",
        "\n",
        "    'OBSTACLE': [['OBS ACTION', 'DET', 'OBS CHAR']],\n",
        "    'OBS CHAR': ['witch', 'dragon', 'wizard', 'thieves', 'ghosts', 'dark knight', 'bandits'],\n",
        "    'OBS ACTION': ['met', 'faced', 'battled', 'outwitted', 'escaped from', 'challenged'],\n",
        "\n",
        "    'FEARSOME CHAR': ['demonic warlord', 'shadow sorcerer', 'giant serpent', 'undead king', 'dark knight'],\n",
        "    'WEAPON': ['a legendary sword', 'a magical staff', 'a golden bow', 'enchanted armor'],\n",
        "\n",
        "    'RESO ACTION': ['triumphed over', 'emerged victorious over', 'defeated', 'banished', 'vanquished']\n",
        "}\n",
        "\n",
        "\n",
        "def generate(symbol, grammar):\n",
        "    \"\"\"\n",
        "    Recursively generate a string from the grammar starting with the given symbol.\n",
        "\n",
        "    Args:\n",
        "        symbol: The symbol to start generating from\n",
        "\n",
        "    Returns:\n",
        "        A string generated from the grammar rules\n",
        "    \"\"\"\n",
        "    if isinstance(symbol, str) and symbol in grammar:\n",
        "        production = random.choice(grammar[symbol])\n",
        "        if isinstance(production, list):\n",
        "            return ' '.join(generate(sym, grammar) for sym in production)\n",
        "        return production\n",
        "    return symbol"
      ],
      "metadata": {
        "id": "vhlGbDREkS5v"
      },
      "execution_count": 70,
      "outputs": []
    },
    {
      "cell_type": "code",
      "source": [
        "# Try the expanded grammar\n",
        "print(\"Generated sentences with expanded vocabulary:\\n\")\n",
        "for i in range(1):\n",
        "    print(f\"{generate('STORY', basic_grammar)}\")"
      ],
      "metadata": {
        "colab": {
          "base_uri": "https://localhost:8080/"
        },
        "id": "O-0Z4tv4kVaZ",
        "outputId": "c7f842f1-9474-4754-eb0c-352faa716818"
      },
      "execution_count": 71,
      "outputs": [
        {
          "output_type": "stream",
          "name": "stdout",
          "text": [
            "Generated sentences with expanded vocabulary:\n",
            "\n",
            "Once upon a time in a far far away cave there was a fearless sorcerer . On a gloomy day a brave knight was cursed . A great prophecy foretold that they must slay a ancient relic . Hence, they set out on a quest to slay a witch . Along the way, they challenged a dragon and escaped from the witch . As they neared their goal, they encountered the dark knight who sought to stop them. With courage, they fought bravely, wielding a golden bow against their foe. After a great long battle, they triumphed over the wizard . Weary but victorious, they journeyed back through the a enchanted cave , reflecting on their trials and triumphs. Their deeds were honored with grand feasts, and the people sang songs of their bravery. Statues were built to commemorate their great victory. Their story was told for generations, inspiring others to follow in their footsteps. Songs were written, and their legend lived on.\n"
          ]
        }
      ]
    }
  ]
}